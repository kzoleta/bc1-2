{
 "cells": [
  {
   "cell_type": "markdown",
   "id": "31f0cec7",
   "metadata": {},
   "source": [
    "# This is my notebook in ECE 2112!"
   ]
  },
  {
   "cell_type": "markdown",
   "id": "b7e35e78",
   "metadata": {},
   "source": [
    "#### Python Base Types - these are the data types in Python"
   ]
  },
  {
   "cell_type": "code",
   "execution_count": null,
   "id": "fa1cf68e",
   "metadata": {},
   "outputs": [],
   "source": [
    "type(346)"
   ]
  },
  {
   "cell_type": "code",
   "execution_count": null,
   "id": "6558b02c",
   "metadata": {},
   "outputs": [],
   "source": [
    "type(45.3)"
   ]
  },
  {
   "cell_type": "code",
   "execution_count": null,
   "id": "a6895b4b",
   "metadata": {},
   "outputs": [],
   "source": [
    "type('c')"
   ]
  },
  {
   "cell_type": "code",
   "execution_count": null,
   "id": "9ebbddce",
   "metadata": {},
   "outputs": [],
   "source": [
    "type(True)"
   ]
  },
  {
   "cell_type": "markdown",
   "id": "309ab2c1",
   "metadata": {},
   "source": [
    "#### Python Type Conversion"
   ]
  },
  {
   "cell_type": "markdown",
   "id": "07cd70f3",
   "metadata": {},
   "source": [
    "How will I convert 34.5 to integer?"
   ]
  },
  {
   "cell_type": "code",
   "execution_count": null,
   "id": "67167b97",
   "metadata": {},
   "outputs": [],
   "source": [
    "int(34.5)"
   ]
  },
  {
   "cell_type": "markdown",
   "id": "cc7fc369",
   "metadata": {},
   "source": [
    "How will I convert 45 to float?"
   ]
  },
  {
   "cell_type": "code",
   "execution_count": null,
   "id": "1ea44f5f",
   "metadata": {},
   "outputs": [],
   "source": [
    "float(45)"
   ]
  },
  {
   "cell_type": "markdown",
   "id": "921ac322",
   "metadata": {},
   "source": [
    "#### Operations on INTs and FLOATs"
   ]
  },
  {
   "cell_type": "code",
   "execution_count": null,
   "id": "350554e8",
   "metadata": {},
   "outputs": [],
   "source": [
    "#Addition\n",
    "78+85"
   ]
  },
  {
   "cell_type": "code",
   "execution_count": null,
   "id": "9d7b7680",
   "metadata": {},
   "outputs": [],
   "source": [
    "#Subtraction\n",
    "78-85"
   ]
  },
  {
   "cell_type": "code",
   "execution_count": null,
   "id": "2f3f77f0",
   "metadata": {},
   "outputs": [],
   "source": [
    "#Multiplication\n",
    "78*85"
   ]
  },
  {
   "cell_type": "code",
   "execution_count": null,
   "id": "2d7fe5d4",
   "metadata": {},
   "outputs": [],
   "source": [
    "#Exponentiation\n",
    "78**85"
   ]
  },
  {
   "cell_type": "code",
   "execution_count": null,
   "id": "bc5304e2",
   "metadata": {},
   "outputs": [],
   "source": [
    "#Division (Float) - isang dash lang\n",
    "20/6"
   ]
  },
  {
   "cell_type": "code",
   "execution_count": null,
   "id": "0f2195a6",
   "metadata": {},
   "outputs": [],
   "source": [
    "#Division (Int) - dalawang slash\n",
    "20//6"
   ]
  },
  {
   "cell_type": "code",
   "execution_count": null,
   "id": "4689e543",
   "metadata": {},
   "outputs": [],
   "source": [
    "#Modulo - remainder\n",
    "20%6"
   ]
  },
  {
   "cell_type": "markdown",
   "id": "93fce01a",
   "metadata": {},
   "source": [
    "#### Operations on Strings"
   ]
  },
  {
   "cell_type": "markdown",
   "id": "e8607805",
   "metadata": {},
   "source": [
    "Strings - letters, special characters, spaces, digits that are enclosed in a pair of either single or double quotation marks."
   ]
  },
  {
   "cell_type": "code",
   "execution_count": 3,
   "id": "00cd1967",
   "metadata": {},
   "outputs": [],
   "source": [
    "s = \"Advanced Programming\""
   ]
  },
  {
   "cell_type": "code",
   "execution_count": 5,
   "id": "24f15c53",
   "metadata": {},
   "outputs": [
    {
     "data": {
      "text/plain": [
       "'aDVANCED pROGRAMMING'"
      ]
     },
     "execution_count": 5,
     "metadata": {},
     "output_type": "execute_result"
    }
   ],
   "source": [
    "b = s.swapcase()\n",
    "b\n"
   ]
  },
  {
   "cell_type": "code",
   "execution_count": null,
   "id": "ab2b543b",
   "metadata": {},
   "outputs": [],
   "source": [
    "#Dependent on ASCII codes\n",
    "max(s)"
   ]
  },
  {
   "cell_type": "code",
   "execution_count": 7,
   "id": "6c3f4e88",
   "metadata": {},
   "outputs": [
    {
     "data": {
      "text/plain": [
       "False"
      ]
     },
     "execution_count": 7,
     "metadata": {},
     "output_type": "execute_result"
    }
   ],
   "source": [
    "c = s.isupper()\n",
    "c"
   ]
  },
  {
   "cell_type": "code",
   "execution_count": 9,
   "id": "91e2a933",
   "metadata": {},
   "outputs": [
    {
     "data": {
      "text/plain": [
       "'Advanced Progra**ing'"
      ]
     },
     "execution_count": 9,
     "metadata": {},
     "output_type": "execute_result"
    }
   ],
   "source": [
    "s.replace(\"m\", \"*\")"
   ]
  },
  {
   "cell_type": "code",
   "execution_count": 11,
   "id": "d1cadb40",
   "metadata": {},
   "outputs": [
    {
     "data": {
      "text/plain": [
       "True"
      ]
     },
     "execution_count": 11,
     "metadata": {},
     "output_type": "execute_result"
    }
   ],
   "source": [
    "x = \"gram\" in s\n",
    "x"
   ]
  },
  {
   "cell_type": "code",
   "execution_count": 13,
   "id": "79bc9ec3",
   "metadata": {},
   "outputs": [
    {
     "data": {
      "text/plain": [
       "'An gm'"
      ]
     },
     "execution_count": 13,
     "metadata": {},
     "output_type": "execute_result"
    }
   ],
   "source": [
    "#Slicing - string_name[index ng first element: number of characters: increment]\n",
    "s[0:20:4]"
   ]
  },
  {
   "cell_type": "code",
   "execution_count": 17,
   "id": "2f124945",
   "metadata": {},
   "outputs": [
    {
     "data": {
      "text/plain": [
       "'I love Advanced Programming'"
      ]
     },
     "execution_count": 17,
     "metadata": {},
     "output_type": "execute_result"
    }
   ],
   "source": [
    "txt = \"I love {}\"\n",
    "txt.format(s)\n",
    "\n",
    "#{} is a library for formatting strings"
   ]
  },
  {
   "cell_type": "markdown",
   "id": "02cbf234",
   "metadata": {},
   "source": [
    "### Python Data Structures"
   ]
  },
  {
   "cell_type": "markdown",
   "id": "a8e786c1",
   "metadata": {},
   "source": [
    "Python Data Structures - any objects that holds arbitrary number of objects."
   ]
  },
  {
   "cell_type": "markdown",
   "id": "be8d0e28",
   "metadata": {},
   "source": [
    "##### List - is a collection of data which uses straight brackets [  ] and commas to separate the object."
   ]
  },
  {
   "cell_type": "code",
   "execution_count": 19,
   "id": "55dc5da0",
   "metadata": {},
   "outputs": [],
   "source": [
    "m = [\"apple\", \"banana\", \"cherry\"]"
   ]
  },
  {
   "cell_type": "code",
   "execution_count": 21,
   "id": "f4a9458c",
   "metadata": {},
   "outputs": [
    {
     "name": "stdout",
     "output_type": "stream",
     "text": [
      "banana\n"
     ]
    }
   ],
   "source": [
    "print(m[1])"
   ]
  },
  {
   "cell_type": "code",
   "execution_count": 23,
   "id": "9da0b2fd",
   "metadata": {},
   "outputs": [
    {
     "name": "stdout",
     "output_type": "stream",
     "text": [
      "cherry\n"
     ]
    }
   ],
   "source": [
    "print(m[-1])"
   ]
  },
  {
   "cell_type": "code",
   "execution_count": 25,
   "id": "7bb5e5f1",
   "metadata": {},
   "outputs": [
    {
     "data": {
      "text/plain": [
       "['apple', 'banana', 'cherry', 'mango']"
      ]
     },
     "execution_count": 25,
     "metadata": {},
     "output_type": "execute_result"
    }
   ],
   "source": [
    "m.append(\"mango\")\n",
    "m"
   ]
  },
  {
   "cell_type": "code",
   "execution_count": 27,
   "id": "07eee3e2",
   "metadata": {},
   "outputs": [
    {
     "data": {
      "text/plain": [
       "['apple', 'banana', 'orange', 'cherry', 'mango']"
      ]
     },
     "execution_count": 27,
     "metadata": {},
     "output_type": "execute_result"
    }
   ],
   "source": [
    "m.insert(2,\"orange\")\n",
    "m"
   ]
  },
  {
   "cell_type": "code",
   "execution_count": 29,
   "id": "5108b7ca",
   "metadata": {},
   "outputs": [
    {
     "data": {
      "text/plain": [
       "['apple', 'orange', 'cherry', 'mango']"
      ]
     },
     "execution_count": 29,
     "metadata": {},
     "output_type": "execute_result"
    }
   ],
   "source": [
    "m.remove(\"banana\")\n",
    "m"
   ]
  },
  {
   "cell_type": "code",
   "execution_count": 31,
   "id": "c06077cd",
   "metadata": {},
   "outputs": [
    {
     "data": {
      "text/plain": [
       "['apple', 'cherry', 'mango', 'orange']"
      ]
     },
     "execution_count": 31,
     "metadata": {},
     "output_type": "execute_result"
    }
   ],
   "source": [
    "m.sort()\n",
    "m"
   ]
  },
  {
   "cell_type": "code",
   "execution_count": 33,
   "id": "8073922e",
   "metadata": {},
   "outputs": [
    {
     "data": {
      "text/plain": [
       "['apple', 'mango', 'orange']"
      ]
     },
     "execution_count": 33,
     "metadata": {},
     "output_type": "execute_result"
    }
   ],
   "source": [
    "del m[1]\n",
    "m"
   ]
  },
  {
   "cell_type": "markdown",
   "id": "52758636",
   "metadata": {},
   "source": [
    "##### Dictionary - uses curly braces and colons to signify the keys to their associated values"
   ]
  },
  {
   "cell_type": "code",
   "execution_count": 36,
   "id": "8d73882a",
   "metadata": {},
   "outputs": [
    {
     "data": {
      "text/plain": [
       "{'brand': 'Mitsubishi', 'model': 'Mirage', 'year': 2018}"
      ]
     },
     "execution_count": 36,
     "metadata": {},
     "output_type": "execute_result"
    }
   ],
   "source": [
    "d = {\"brand\":\"Mitsubishi\", \"model\":\"Mirage\", \"year\": 2018}\n",
    "d"
   ]
  },
  {
   "cell_type": "code",
   "execution_count": 38,
   "id": "539039d0",
   "metadata": {},
   "outputs": [
    {
     "data": {
      "text/plain": [
       "'Mirage'"
      ]
     },
     "execution_count": 38,
     "metadata": {},
     "output_type": "execute_result"
    }
   ],
   "source": [
    "d.get(\"model\")"
   ]
  },
  {
   "cell_type": "code",
   "execution_count": 40,
   "id": "d14a1876",
   "metadata": {},
   "outputs": [
    {
     "data": {
      "text/plain": [
       "{'brand': 'Mitsubishi', 'model': 'Mirage', 'year': 2018, 'color': 'pink'}"
      ]
     },
     "execution_count": 40,
     "metadata": {},
     "output_type": "execute_result"
    }
   ],
   "source": [
    "d[\"color\"] = \"pink\"\n",
    "d"
   ]
  },
  {
   "cell_type": "code",
   "execution_count": 42,
   "id": "f269f6c1",
   "metadata": {},
   "outputs": [
    {
     "data": {
      "text/plain": [
       "dict_keys(['brand', 'model', 'year', 'color'])"
      ]
     },
     "execution_count": 42,
     "metadata": {},
     "output_type": "execute_result"
    }
   ],
   "source": [
    "d.keys()"
   ]
  },
  {
   "cell_type": "code",
   "execution_count": 44,
   "id": "f5f18513",
   "metadata": {},
   "outputs": [
    {
     "data": {
      "text/plain": [
       "{'brand': 'Mitsubishi', 'year': 2018, 'color': 'pink'}"
      ]
     },
     "execution_count": 44,
     "metadata": {},
     "output_type": "execute_result"
    }
   ],
   "source": [
    "d.pop(\"model\")\n",
    "d"
   ]
  },
  {
   "cell_type": "code",
   "execution_count": 46,
   "id": "f1b79e8b",
   "metadata": {},
   "outputs": [
    {
     "data": {
      "text/plain": [
       "{'brand': 'Mitsubishi', 'year': 2018}"
      ]
     },
     "execution_count": 46,
     "metadata": {},
     "output_type": "execute_result"
    }
   ],
   "source": [
    "d.popitem()\n",
    "d"
   ]
  },
  {
   "cell_type": "markdown",
   "id": "c5b0aeef",
   "metadata": {},
   "source": [
    "##### Tuple - collection of data which is immutable"
   ]
  },
  {
   "cell_type": "code",
   "execution_count": 49,
   "id": "0d89710b",
   "metadata": {},
   "outputs": [
    {
     "data": {
      "text/plain": [
       "('apple', 'banana', 'cherry', 'mango', 'orange')"
      ]
     },
     "execution_count": 49,
     "metadata": {},
     "output_type": "execute_result"
    }
   ],
   "source": [
    "t = \"apple\", \"banana\", \"cherry\", \"mango\", \"orange\"\n",
    "t"
   ]
  },
  {
   "cell_type": "code",
   "execution_count": 51,
   "id": "c0794f53",
   "metadata": {},
   "outputs": [
    {
     "name": "stdout",
     "output_type": "stream",
     "text": [
      "banana\n"
     ]
    }
   ],
   "source": [
    "print(t[1])"
   ]
  },
  {
   "cell_type": "code",
   "execution_count": 53,
   "id": "497c3238",
   "metadata": {},
   "outputs": [
    {
     "name": "stdout",
     "output_type": "stream",
     "text": [
      "mango\n"
     ]
    }
   ],
   "source": [
    "print(t[-2])"
   ]
  },
  {
   "cell_type": "code",
   "execution_count": 57,
   "id": "bfc954c6",
   "metadata": {},
   "outputs": [
    {
     "name": "stdout",
     "output_type": "stream",
     "text": [
      "('cherry', 'mango')\n"
     ]
    }
   ],
   "source": [
    "print(t[2:4])"
   ]
  },
  {
   "cell_type": "code",
   "execution_count": 59,
   "id": "befac93a",
   "metadata": {},
   "outputs": [
    {
     "ename": "TypeError",
     "evalue": "'tuple' object does not support item assignment",
     "output_type": "error",
     "traceback": [
      "\u001b[0;31m---------------------------------------------------------------------------\u001b[0m",
      "\u001b[0;31mTypeError\u001b[0m                                 Traceback (most recent call last)",
      "Cell \u001b[0;32mIn[59], line 1\u001b[0m\n\u001b[0;32m----> 1\u001b[0m t[\u001b[38;5;241m2\u001b[39m] \u001b[38;5;241m=\u001b[39m \u001b[38;5;124m\"\u001b[39m\u001b[38;5;124morange\u001b[39m\u001b[38;5;124m\"\u001b[39m\n",
      "\u001b[0;31mTypeError\u001b[0m: 'tuple' object does not support item assignment"
     ]
    }
   ],
   "source": [
    "t[2] = \"orange\""
   ]
  },
  {
   "cell_type": "code",
   "execution_count": 61,
   "id": "f22e5fb9",
   "metadata": {},
   "outputs": [
    {
     "data": {
      "text/plain": [
       "5"
      ]
     },
     "execution_count": 61,
     "metadata": {},
     "output_type": "execute_result"
    }
   ],
   "source": [
    "len(t)"
   ]
  },
  {
   "cell_type": "code",
   "execution_count": 63,
   "id": "1c9136bd",
   "metadata": {},
   "outputs": [
    {
     "ename": "NameError",
     "evalue": "name 't' is not defined",
     "output_type": "error",
     "traceback": [
      "\u001b[0;31m---------------------------------------------------------------------------\u001b[0m",
      "\u001b[0;31mNameError\u001b[0m                                 Traceback (most recent call last)",
      "Cell \u001b[0;32mIn[63], line 2\u001b[0m\n\u001b[1;32m      1\u001b[0m \u001b[38;5;28;01mdel\u001b[39;00m t\n\u001b[0;32m----> 2\u001b[0m t\n",
      "\u001b[0;31mNameError\u001b[0m: name 't' is not defined"
     ]
    }
   ],
   "source": [
    "del t\n",
    "t"
   ]
  },
  {
   "cell_type": "markdown",
   "id": "50584ad4",
   "metadata": {},
   "source": [
    "##### Set - collection of unique data elements which is unordered (ordered alphabetically)"
   ]
  },
  {
   "cell_type": "code",
   "execution_count": 65,
   "id": "046e7c18",
   "metadata": {},
   "outputs": [
    {
     "data": {
      "text/plain": [
       "{'apple', 'banana', 'cherry'}"
      ]
     },
     "execution_count": 65,
     "metadata": {},
     "output_type": "execute_result"
    }
   ],
   "source": [
    "s = {\"banana\", \"apple\", \"cherry\", \"cherry\"}\n",
    "s\n"
   ]
  },
  {
   "cell_type": "code",
   "execution_count": 67,
   "id": "28bf5c1c",
   "metadata": {},
   "outputs": [
    {
     "data": {
      "text/plain": [
       "{'apple', 'banana', 'bayabas', 'cherry'}"
      ]
     },
     "execution_count": 67,
     "metadata": {},
     "output_type": "execute_result"
    }
   ],
   "source": [
    "s.add(\"bayabas\")\n",
    "s"
   ]
  },
  {
   "cell_type": "code",
   "execution_count": 75,
   "id": "9808ad01",
   "metadata": {},
   "outputs": [
    {
     "data": {
      "text/plain": [
       "{'apple', 'bayabas', 'cherry', 'grapes', 'mango'}"
      ]
     },
     "execution_count": 75,
     "metadata": {},
     "output_type": "execute_result"
    }
   ],
   "source": [
    "s.update([\"mango\", \"grapes\"])\n",
    "s"
   ]
  },
  {
   "cell_type": "code",
   "execution_count": 77,
   "id": "8bb918e8",
   "metadata": {},
   "outputs": [
    {
     "ename": "KeyError",
     "evalue": "'banana'",
     "output_type": "error",
     "traceback": [
      "\u001b[0;31m---------------------------------------------------------------------------\u001b[0m",
      "\u001b[0;31mKeyError\u001b[0m                                  Traceback (most recent call last)",
      "Cell \u001b[0;32mIn[77], line 1\u001b[0m\n\u001b[0;32m----> 1\u001b[0m s\u001b[38;5;241m.\u001b[39mremove(\u001b[38;5;124m\"\u001b[39m\u001b[38;5;124mbanana\u001b[39m\u001b[38;5;124m\"\u001b[39m)\n\u001b[1;32m      2\u001b[0m s\n",
      "\u001b[0;31mKeyError\u001b[0m: 'banana'"
     ]
    }
   ],
   "source": [
    "s.remove(\"banana\")\n",
    "s"
   ]
  },
  {
   "cell_type": "code",
   "execution_count": 79,
   "id": "d22cf89f",
   "metadata": {},
   "outputs": [
    {
     "data": {
      "text/plain": [
       "{'apple', 'cherry', 'grapes', 'mango'}"
      ]
     },
     "execution_count": 79,
     "metadata": {},
     "output_type": "execute_result"
    }
   ],
   "source": [
    "s.pop()\n",
    "s"
   ]
  },
  {
   "cell_type": "markdown",
   "id": "ad947bbc",
   "metadata": {},
   "source": [
    "### Input and Output in Python"
   ]
  },
  {
   "cell_type": "markdown",
   "id": "5c36f76d",
   "metadata": {},
   "source": [
    "#### Input (Strings)\n",
    "\n",
    "Syntax: text = input(\"\")"
   ]
  },
  {
   "cell_type": "code",
   "execution_count": 83,
   "id": "3883624c",
   "metadata": {},
   "outputs": [
    {
     "name": "stdin",
     "output_type": "stream",
     "text": [
      "Enter your name:  aesf\n"
     ]
    }
   ],
   "source": [
    "p = input(\"Enter your name: \")"
   ]
  },
  {
   "cell_type": "markdown",
   "id": "dbab0cf2",
   "metadata": {},
   "source": [
    "#### Input (Int or Float)\n",
    "\n",
    "Syntax: \n",
    "n = int(input(\"\"))\n",
    "n = float(input(\"\"))"
   ]
  },
  {
   "cell_type": "code",
   "execution_count": 85,
   "id": "cdb7a43b",
   "metadata": {},
   "outputs": [
    {
     "name": "stdin",
     "output_type": "stream",
     "text": [
      "Enter a number:  12\n"
     ]
    }
   ],
   "source": [
    "n = int(input(\"Enter a number: \"))"
   ]
  },
  {
   "cell_type": "code",
   "execution_count": 87,
   "id": "9646451a",
   "metadata": {},
   "outputs": [
    {
     "name": "stdin",
     "output_type": "stream",
     "text": [
      "Enter a number:  1122121.11\n"
     ]
    }
   ],
   "source": [
    "n = float(input(\"Enter a number: \"))"
   ]
  },
  {
   "cell_type": "markdown",
   "id": "08e8fd79",
   "metadata": {},
   "source": [
    "#### Output\n",
    "\n",
    "Syntax: print()"
   ]
  },
  {
   "cell_type": "code",
   "execution_count": 89,
   "id": "8bee98c0",
   "metadata": {},
   "outputs": [
    {
     "name": "stdout",
     "output_type": "stream",
     "text": [
      "Hello World\n"
     ]
    }
   ],
   "source": [
    "print(\"Hello World\")"
   ]
  },
  {
   "cell_type": "code",
   "execution_count": 91,
   "id": "aa1d61db",
   "metadata": {},
   "outputs": [
    {
     "name": "stdout",
     "output_type": "stream",
     "text": [
      "1122121.11\n"
     ]
    }
   ],
   "source": [
    "print(n)"
   ]
  },
  {
   "cell_type": "code",
   "execution_count": 93,
   "id": "8bf70b2a",
   "metadata": {},
   "outputs": [
    {
     "name": "stdout",
     "output_type": "stream",
     "text": [
      "My favorite number is 1122121.11 and I used it earlier\n"
     ]
    }
   ],
   "source": [
    "print(\"My favorite number is\", n, \"and I used it earlier\")"
   ]
  },
  {
   "cell_type": "code",
   "execution_count": null,
   "id": "f5ba46e9-3f99-4534-bd2b-0567444ac4e5",
   "metadata": {},
   "outputs": [],
   "source": []
  }
 ],
 "metadata": {
  "kernelspec": {
   "display_name": "Python 3 (ipykernel)",
   "language": "python",
   "name": "python3"
  },
  "language_info": {
   "codemirror_mode": {
    "name": "ipython",
    "version": 3
   },
   "file_extension": ".py",
   "mimetype": "text/x-python",
   "name": "python",
   "nbconvert_exporter": "python",
   "pygments_lexer": "ipython3",
   "version": "3.12.4"
  }
 },
 "nbformat": 4,
 "nbformat_minor": 5
}
